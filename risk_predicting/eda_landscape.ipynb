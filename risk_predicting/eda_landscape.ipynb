{
 "cells": [
  {
   "cell_type": "code",
   "execution_count": null,
   "id": "11b0e595-96ed-409b-ac8c-3eb964bc76f0",
   "metadata": {},
   "outputs": [],
   "source": [
    "## 1) Comprehension du probleme\n",
    "* Purpose\n",
    "We aim to predict the risk of qccident\n",
    "\n",
    "* Key variable(Cibles and carasteristic)\n",
    "\n",
    "* Specific Contraints\n"
   ]
  },
  {
   "cell_type": "code",
   "execution_count": 10,
   "id": "34b40f93-0ebf-411f-b4aa-2bda958ca8c5",
   "metadata": {},
   "outputs": [],
   "source": [
    "import os\n",
    "import pandas as pd\n",
    "import numpy as np\n",
    "import matplotlib.pyplot as plt\n",
    "\n",
    "from sklearn.model_selection import StratifiedKFold, cross_val_score ,train_test_split\n",
    "from sklearn.compose import ColumnTransformer\n",
    "from sklearn.pipeline import Pipeline\n",
    "from sklearn.preprocessing import OneHotEncoder,StandardScaler\n",
    "from sklearn.impute import SimpleImputer\n",
    "from sklearn.metrics import  mean_squared_error\n",
    "\n",
    "import xgboost as xgb"
   ]
  },
  {
   "cell_type": "markdown",
   "id": "a9afa550-58bc-4f5d-93ba-54da7390660b",
   "metadata": {},
   "source": [
    "# Data Loading"
   ]
  },
  {
   "cell_type": "code",
   "execution_count": 12,
   "id": "adf2cf19-4f9c-40ba-b6b1-bdf7a0653025",
   "metadata": {},
   "outputs": [
    {
     "name": "stdout",
     "output_type": "stream",
     "text": [
      "Train shape:(517754, 14)\n",
      "Train shape:(172585, 13)\n"
     ]
    },
    {
     "data": {
      "text/html": [
       "<div>\n",
       "<style scoped>\n",
       "    .dataframe tbody tr th:only-of-type {\n",
       "        vertical-align: middle;\n",
       "    }\n",
       "\n",
       "    .dataframe tbody tr th {\n",
       "        vertical-align: top;\n",
       "    }\n",
       "\n",
       "    .dataframe thead th {\n",
       "        text-align: right;\n",
       "    }\n",
       "</style>\n",
       "<table border=\"1\" class=\"dataframe\">\n",
       "  <thead>\n",
       "    <tr style=\"text-align: right;\">\n",
       "      <th></th>\n",
       "      <th>id</th>\n",
       "      <th>road_type</th>\n",
       "      <th>num_lanes</th>\n",
       "      <th>curvature</th>\n",
       "      <th>speed_limit</th>\n",
       "      <th>lighting</th>\n",
       "      <th>weather</th>\n",
       "      <th>road_signs_present</th>\n",
       "      <th>public_road</th>\n",
       "      <th>time_of_day</th>\n",
       "      <th>holiday</th>\n",
       "      <th>school_season</th>\n",
       "      <th>num_reported_accidents</th>\n",
       "      <th>accident_risk</th>\n",
       "    </tr>\n",
       "  </thead>\n",
       "  <tbody>\n",
       "    <tr>\n",
       "      <th>0</th>\n",
       "      <td>0</td>\n",
       "      <td>urban</td>\n",
       "      <td>2</td>\n",
       "      <td>0.06</td>\n",
       "      <td>35</td>\n",
       "      <td>daylight</td>\n",
       "      <td>rainy</td>\n",
       "      <td>False</td>\n",
       "      <td>True</td>\n",
       "      <td>afternoon</td>\n",
       "      <td>False</td>\n",
       "      <td>True</td>\n",
       "      <td>1</td>\n",
       "      <td>0.13</td>\n",
       "    </tr>\n",
       "    <tr>\n",
       "      <th>1</th>\n",
       "      <td>1</td>\n",
       "      <td>urban</td>\n",
       "      <td>4</td>\n",
       "      <td>0.99</td>\n",
       "      <td>35</td>\n",
       "      <td>daylight</td>\n",
       "      <td>clear</td>\n",
       "      <td>True</td>\n",
       "      <td>False</td>\n",
       "      <td>evening</td>\n",
       "      <td>True</td>\n",
       "      <td>True</td>\n",
       "      <td>0</td>\n",
       "      <td>0.35</td>\n",
       "    </tr>\n",
       "    <tr>\n",
       "      <th>2</th>\n",
       "      <td>2</td>\n",
       "      <td>rural</td>\n",
       "      <td>4</td>\n",
       "      <td>0.63</td>\n",
       "      <td>70</td>\n",
       "      <td>dim</td>\n",
       "      <td>clear</td>\n",
       "      <td>False</td>\n",
       "      <td>True</td>\n",
       "      <td>morning</td>\n",
       "      <td>True</td>\n",
       "      <td>False</td>\n",
       "      <td>2</td>\n",
       "      <td>0.30</td>\n",
       "    </tr>\n",
       "    <tr>\n",
       "      <th>3</th>\n",
       "      <td>3</td>\n",
       "      <td>highway</td>\n",
       "      <td>4</td>\n",
       "      <td>0.07</td>\n",
       "      <td>35</td>\n",
       "      <td>dim</td>\n",
       "      <td>rainy</td>\n",
       "      <td>True</td>\n",
       "      <td>True</td>\n",
       "      <td>morning</td>\n",
       "      <td>False</td>\n",
       "      <td>False</td>\n",
       "      <td>1</td>\n",
       "      <td>0.21</td>\n",
       "    </tr>\n",
       "    <tr>\n",
       "      <th>4</th>\n",
       "      <td>4</td>\n",
       "      <td>rural</td>\n",
       "      <td>1</td>\n",
       "      <td>0.58</td>\n",
       "      <td>60</td>\n",
       "      <td>daylight</td>\n",
       "      <td>foggy</td>\n",
       "      <td>False</td>\n",
       "      <td>False</td>\n",
       "      <td>evening</td>\n",
       "      <td>True</td>\n",
       "      <td>False</td>\n",
       "      <td>1</td>\n",
       "      <td>0.56</td>\n",
       "    </tr>\n",
       "  </tbody>\n",
       "</table>\n",
       "</div>"
      ],
      "text/plain": [
       "   id road_type  num_lanes  curvature  speed_limit  lighting weather  \\\n",
       "0   0     urban          2       0.06           35  daylight   rainy   \n",
       "1   1     urban          4       0.99           35  daylight   clear   \n",
       "2   2     rural          4       0.63           70       dim   clear   \n",
       "3   3   highway          4       0.07           35       dim   rainy   \n",
       "4   4     rural          1       0.58           60  daylight   foggy   \n",
       "\n",
       "   road_signs_present  public_road time_of_day  holiday  school_season  \\\n",
       "0               False         True   afternoon    False           True   \n",
       "1                True        False     evening     True           True   \n",
       "2               False         True     morning     True          False   \n",
       "3                True         True     morning    False          False   \n",
       "4               False        False     evening     True          False   \n",
       "\n",
       "   num_reported_accidents  accident_risk  \n",
       "0                       1           0.13  \n",
       "1                       0           0.35  \n",
       "2                       2           0.30  \n",
       "3                       1           0.21  \n",
       "4                       1           0.56  "
      ]
     },
     "execution_count": 12,
     "metadata": {},
     "output_type": "execute_result"
    }
   ],
   "source": [
    "TRAIN_PATH = './dataset/train.csv'\n",
    "TEST_PATH = './dataset/test.csv'\n",
    "\n",
    "assert os.path.exists(TRAIN_PATH) , f\"This path {TRAIN_PATH} doesnt exist. Make sure it exists\"\n",
    "assert os.path.exists(TEST_PATH) , f\"This path {TEST_PATH} doesnt exist. Make sure it exists\"\n",
    "\n",
    "train = pd.read_csv(TRAIN_PATH)\n",
    "test = pd.read_csv(TEST_PATH)\n",
    "\n",
    "print(f\"Train shape:{train.shape}\")\n",
    "print(f\"Train shape:{test.shape}\")\n",
    "\n",
    "train.head()"
   ]
  },
  {
   "cell_type": "code",
   "execution_count": 13,
   "id": "12ed55b4-3191-4b42-a365-9d37a77c855b",
   "metadata": {},
   "outputs": [
    {
     "name": "stdout",
     "output_type": "stream",
     "text": [
      "<class 'pandas.core.frame.DataFrame'>\n",
      "RangeIndex: 517754 entries, 0 to 517753\n",
      "Data columns (total 14 columns):\n",
      " #   Column                  Non-Null Count   Dtype  \n",
      "---  ------                  --------------   -----  \n",
      " 0   id                      517754 non-null  int64  \n",
      " 1   road_type               517754 non-null  object \n",
      " 2   num_lanes               517754 non-null  int64  \n",
      " 3   curvature               517754 non-null  float64\n",
      " 4   speed_limit             517754 non-null  int64  \n",
      " 5   lighting                517754 non-null  object \n",
      " 6   weather                 517754 non-null  object \n",
      " 7   road_signs_present      517754 non-null  bool   \n",
      " 8   public_road             517754 non-null  bool   \n",
      " 9   time_of_day             517754 non-null  object \n",
      " 10  holiday                 517754 non-null  bool   \n",
      " 11  school_season           517754 non-null  bool   \n",
      " 12  num_reported_accidents  517754 non-null  int64  \n",
      " 13  accident_risk           517754 non-null  float64\n",
      "dtypes: bool(4), float64(2), int64(4), object(4)\n",
      "memory usage: 41.5+ MB\n"
     ]
    }
   ],
   "source": [
    "train.info()\n"
   ]
  },
  {
   "cell_type": "markdown",
   "id": "20e52a7e-501f-479d-a46a-e1d352fbce30",
   "metadata": {},
   "source": [
    "# Checking the Data Quality\n"
   ]
  },
  {
   "cell_type": "code",
   "execution_count": 14,
   "id": "2e739bf2-bb58-49fa-b410-a1f71c35d958",
   "metadata": {},
   "outputs": [
    {
     "name": "stdout",
     "output_type": "stream",
     "text": [
      "id                        0\n",
      "road_type                 0\n",
      "num_lanes                 0\n",
      "curvature                 0\n",
      "speed_limit               0\n",
      "lighting                  0\n",
      "weather                   0\n",
      "road_signs_present        0\n",
      "public_road               0\n",
      "time_of_day               0\n",
      "holiday                   0\n",
      "school_season             0\n",
      "num_reported_accidents    0\n",
      "accident_risk             0\n",
      "dtype: int64\n"
     ]
    }
   ],
   "source": [
    "# We try to find null value\n",
    "print(train.isnull().sum())"
   ]
  },
  {
   "cell_type": "code",
   "execution_count": 15,
   "id": "d392dca8-c11d-4325-979b-96a58028b2f5",
   "metadata": {},
   "outputs": [
    {
     "name": "stdout",
     "output_type": "stream",
     "text": [
      "0\n"
     ]
    }
   ],
   "source": [
    "print(train.duplicated().sum())\n"
   ]
  },
  {
   "cell_type": "code",
   "execution_count": 16,
   "id": "b90f64ca-b150-4a51-a679-b15fa96a15f9",
   "metadata": {},
   "outputs": [
    {
     "name": "stdout",
     "output_type": "stream",
     "text": [
      "id                          int64\n",
      "road_type                  object\n",
      "num_lanes                   int64\n",
      "curvature                 float64\n",
      "speed_limit                 int64\n",
      "lighting                   object\n",
      "weather                    object\n",
      "road_signs_present           bool\n",
      "public_road                  bool\n",
      "time_of_day                object\n",
      "holiday                      bool\n",
      "school_season                bool\n",
      "num_reported_accidents      int64\n",
      "accident_risk             float64\n",
      "dtype: object\n"
     ]
    }
   ],
   "source": [
    "print(train.dtypes)"
   ]
  },
  {
   "cell_type": "markdown",
   "id": "d2e9038f-3f15-4f84-af58-819568f7840e",
   "metadata": {},
   "source": [
    "# Univariate"
   ]
  },
  {
   "cell_type": "code",
   "execution_count": 17,
   "id": "143f3773-53c6-468b-8af5-751e6a21ad2a",
   "metadata": {},
   "outputs": [
    {
     "data": {
      "text/html": [
       "<div>\n",
       "<style scoped>\n",
       "    .dataframe tbody tr th:only-of-type {\n",
       "        vertical-align: middle;\n",
       "    }\n",
       "\n",
       "    .dataframe tbody tr th {\n",
       "        vertical-align: top;\n",
       "    }\n",
       "\n",
       "    .dataframe thead th {\n",
       "        text-align: right;\n",
       "    }\n",
       "</style>\n",
       "<table border=\"1\" class=\"dataframe\">\n",
       "  <thead>\n",
       "    <tr style=\"text-align: right;\">\n",
       "      <th></th>\n",
       "      <th>id</th>\n",
       "      <th>num_lanes</th>\n",
       "      <th>curvature</th>\n",
       "      <th>speed_limit</th>\n",
       "      <th>num_reported_accidents</th>\n",
       "      <th>accident_risk</th>\n",
       "    </tr>\n",
       "  </thead>\n",
       "  <tbody>\n",
       "    <tr>\n",
       "      <th>count</th>\n",
       "      <td>517754.000000</td>\n",
       "      <td>517754.000000</td>\n",
       "      <td>517754.000000</td>\n",
       "      <td>517754.000000</td>\n",
       "      <td>517754.000000</td>\n",
       "      <td>517754.000000</td>\n",
       "    </tr>\n",
       "    <tr>\n",
       "      <th>mean</th>\n",
       "      <td>258876.500000</td>\n",
       "      <td>2.491511</td>\n",
       "      <td>0.488719</td>\n",
       "      <td>46.112575</td>\n",
       "      <td>1.187970</td>\n",
       "      <td>0.352377</td>\n",
       "    </tr>\n",
       "    <tr>\n",
       "      <th>std</th>\n",
       "      <td>149462.849974</td>\n",
       "      <td>1.120434</td>\n",
       "      <td>0.272563</td>\n",
       "      <td>15.788521</td>\n",
       "      <td>0.895961</td>\n",
       "      <td>0.166417</td>\n",
       "    </tr>\n",
       "    <tr>\n",
       "      <th>min</th>\n",
       "      <td>0.000000</td>\n",
       "      <td>1.000000</td>\n",
       "      <td>0.000000</td>\n",
       "      <td>25.000000</td>\n",
       "      <td>0.000000</td>\n",
       "      <td>0.000000</td>\n",
       "    </tr>\n",
       "    <tr>\n",
       "      <th>25%</th>\n",
       "      <td>129438.250000</td>\n",
       "      <td>1.000000</td>\n",
       "      <td>0.260000</td>\n",
       "      <td>35.000000</td>\n",
       "      <td>1.000000</td>\n",
       "      <td>0.230000</td>\n",
       "    </tr>\n",
       "    <tr>\n",
       "      <th>50%</th>\n",
       "      <td>258876.500000</td>\n",
       "      <td>2.000000</td>\n",
       "      <td>0.510000</td>\n",
       "      <td>45.000000</td>\n",
       "      <td>1.000000</td>\n",
       "      <td>0.340000</td>\n",
       "    </tr>\n",
       "    <tr>\n",
       "      <th>75%</th>\n",
       "      <td>388314.750000</td>\n",
       "      <td>3.000000</td>\n",
       "      <td>0.710000</td>\n",
       "      <td>60.000000</td>\n",
       "      <td>2.000000</td>\n",
       "      <td>0.460000</td>\n",
       "    </tr>\n",
       "    <tr>\n",
       "      <th>max</th>\n",
       "      <td>517753.000000</td>\n",
       "      <td>4.000000</td>\n",
       "      <td>1.000000</td>\n",
       "      <td>70.000000</td>\n",
       "      <td>7.000000</td>\n",
       "      <td>1.000000</td>\n",
       "    </tr>\n",
       "  </tbody>\n",
       "</table>\n",
       "</div>"
      ],
      "text/plain": [
       "                  id      num_lanes      curvature    speed_limit  \\\n",
       "count  517754.000000  517754.000000  517754.000000  517754.000000   \n",
       "mean   258876.500000       2.491511       0.488719      46.112575   \n",
       "std    149462.849974       1.120434       0.272563      15.788521   \n",
       "min         0.000000       1.000000       0.000000      25.000000   \n",
       "25%    129438.250000       1.000000       0.260000      35.000000   \n",
       "50%    258876.500000       2.000000       0.510000      45.000000   \n",
       "75%    388314.750000       3.000000       0.710000      60.000000   \n",
       "max    517753.000000       4.000000       1.000000      70.000000   \n",
       "\n",
       "       num_reported_accidents  accident_risk  \n",
       "count           517754.000000  517754.000000  \n",
       "mean                 1.187970       0.352377  \n",
       "std                  0.895961       0.166417  \n",
       "min                  0.000000       0.000000  \n",
       "25%                  1.000000       0.230000  \n",
       "50%                  1.000000       0.340000  \n",
       "75%                  2.000000       0.460000  \n",
       "max                  7.000000       1.000000  "
      ]
     },
     "execution_count": 17,
     "metadata": {},
     "output_type": "execute_result"
    }
   ],
   "source": [
    "train.describe()"
   ]
  },
  {
   "cell_type": "code",
   "execution_count": null,
   "id": "e9f6f3ee-9feb-4c6d-a836-26552951574a",
   "metadata": {},
   "outputs": [],
   "source": []
  },
  {
   "cell_type": "code",
   "execution_count": 18,
   "id": "19d3cbd4-6506-4a80-a5f2-917504de3d75",
   "metadata": {},
   "outputs": [],
   "source": [
    "# Get the data column\n",
    "COLS = train.columns\n",
    "TARGET = 'accident_risk'"
   ]
  },
  {
   "cell_type": "markdown",
   "id": "b67e5e82-b208-49af-a98c-89678d29bb41",
   "metadata": {},
   "source": [
    "# Evaluate Class balance\n",
    "It is useful for checking whether a class is majoritaire. In this case, the model biais can become hight"
   ]
  },
  {
   "cell_type": "code",
   "execution_count": 19,
   "id": "2cb6937d-008d-495d-921d-48195f1a1f37",
   "metadata": {},
   "outputs": [
    {
     "name": "stdout",
     "output_type": "stream",
     "text": [
      "Distribution of classes accident_risk\n",
      "0.34    0.03\n",
      "0.32    0.03\n",
      "0.37    0.03\n",
      "0.28    0.03\n",
      "0.39    0.02\n",
      "        ... \n",
      "0.94    0.00\n",
      "0.97    0.00\n",
      "0.96    0.00\n",
      "0.90    0.00\n",
      "0.93    0.00\n",
      "Name: proportion, Length: 98, dtype: float64\n"
     ]
    },
    {
     "data": {
      "image/png": "[encoded data removed]",
      "text/plain": [
       "<Figure size 1200x400 with 1 Axes>"
      ]
     },
     "metadata": {},
     "output_type": "display_data"
    }
   ],
   "source": [
    "if TARGET in COLS:\n",
    "    class_dis = train[TARGET].value_counts(normalize=True).round(2)\n",
    "    print(\"Distribution of classes\",class_dis)\n",
    "\n",
    "    plt.figure(figsize=(12,4))\n",
    "    class_dis.sort_values().plot(kind='box')\n",
    "else:\n",
    "    print(f\"Column {TARGET} doesnt exist. Make sure it exists\")"
   ]
  },
  {
   "cell_type": "markdown",
   "id": "09fd4a6c-94c2-49e2-a893-0a97491f6c45",
   "metadata": {},
   "source": [
    "# Detect Outlier"
   ]
  },
  {
   "cell_type": "code",
   "execution_count": null,
   "id": "62d420d9-b88f-427b-b05b-6c7050673997",
   "metadata": {},
   "outputs": [],
   "source": [
    "train.boxplot(\n",
    "    patch_artist=True,\n",
    "    flierprops=dict(marker='o',\n",
    "    markerfacecolor='red',\n",
    "    markersize=10)\n",
    ")\n",
    "\n",
    "plt.title('Outlier')\n"
   ]
  }
 ],
 "metadata": {
  "kernelspec": {
   "display_name": "Python 3 (ipykernel)",
   "language": "python",
   "name": "python3"
  },
  "language_info": {
   "codemirror_mode": {
    "name": "ipython",
    "version": 3
   },
   "file_extension": ".py",
   "mimetype": "text/x-python",
   "name": "python",
   "nbconvert_exporter": "python",
   "pygments_lexer": "ipython3",
   "version": "3.13.5"
  }
 },
 "nbformat": 4,
 "nbformat_minor": 5
}
