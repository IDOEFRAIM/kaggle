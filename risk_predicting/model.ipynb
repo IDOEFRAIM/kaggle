{
 "cells": [
  {
   "cell_type": "code",
   "execution_count": 1,
   "id": "a1091f28-98e5-4cc4-b206-e281637a0fad",
   "metadata": {},
   "outputs": [],
   "source": [
    "import os\n",
    "import pandas as pd\n",
    "import numpy as np\n",
    "import matplotlib.pyplot as plt\n",
    "\n",
    "from sklearn.model_selection import KFold, cross_val_score ,train_test_split\n",
    "from sklearn.compose import ColumnTransformer\n",
    "from sklearn.pipeline import Pipeline\n",
    "from sklearn.preprocessing import OneHotEncoder,StandardScaler,LabelEncoder\n",
    "from sklearn.impute import SimpleImputer\n",
    "from sklearn.metrics import  mean_squared_error\n",
    "\n",
    "import xgboost as xgb"
   ]
  },
  {
   "cell_type": "markdown",
   "id": "a7179139-07a4-4147-bb7a-bd8bdd87e9ab",
   "metadata": {},
   "source": [
    "## Data Loading"
   ]
  },
  {
   "cell_type": "code",
   "execution_count": 2,
   "id": "2f94bc1b-8ca6-4b21-bc3c-08337eb5475d",
   "metadata": {},
   "outputs": [],
   "source": [
    "TRAIN_PATH = 'dataset/train.csv'\n",
    "TEST_PATH = 'dataset/train.csv'\n",
    "\n",
    "assert os.path.exists(TRAIN_PATH) , f\"This path {TRAIN_Path} doesnt exist. Make sure it exists\"\n",
    "assert os.path.exists(TEST_PATH) , f\"This path {TEST_PATH} doesnt exist. Make sure it exists\"\n",
    "\n",
    "train = pd.read_csv(TRAIN_PATH)\n",
    "test = pd.read_csv(TEST_PATH)"
   ]
  },
  {
   "cell_type": "markdown",
   "id": "30d939b5-82b8-4c73-af1d-e398cddde509",
   "metadata": {},
   "source": [
    "# Feature and column"
   ]
  },
  {
   "cell_type": "code",
   "execution_count": 3,
   "id": "6e8d819b-c5c8-43da-9bfa-4466b8bf7f79",
   "metadata": {},
   "outputs": [
    {
     "name": "stdout",
     "output_type": "stream",
     "text": [
      "['num_lanes', 'curvature', 'speed_limit', 'lighting', 'weather', 'road_signs_present', 'public_road', 'holiday', 'school_season', 'num_reported_accidents', 'accident_risk']\n",
      "Numeric Columns ['num_lanes', 'curvature', 'speed_limit', 'road_signs_present', 'public_road', 'holiday', 'school_season', 'num_reported_accidents', 'accident_risk']\n",
      "Categorical Columns ['lighting', 'weather']\n"
     ]
    }
   ],
   "source": [
    "TARGET = 'accident_risk'\n",
    "ID_COL = 'id'\n",
    "\n",
    "FEATURES_COLS = [c for c in train.columns]\n",
    "DROP_COLS = [\"road_type\",\"time_of_day\",\"id\"]\n",
    "COLS = [c for c in FEATURES_COLS if c not in DROP_COLS ]\n",
    "print(COLS)\n",
    "\n",
    "# Set categorical and numeric cols\n",
    "\n",
    "CATEGORICAL_COLS = []\n",
    "NUMERIQUES_COLS = []\n",
    "\n",
    "for c in COLS:\n",
    "    if c == ID_COL:\n",
    "        continue\n",
    "    if pd.api.types.is_numeric_dtype(train[c]):\n",
    "        NUMERIQUES_COLS.append(c)\n",
    "    else:\n",
    "        CATEGORICAL_COLS.append(c)\n",
    "\n",
    "print(f\"Numeric Columns\",NUMERIQUES_COLS)\n",
    "print(f\"Categorical Columns\",CATEGORICAL_COLS)"
   ]
  },
  {
   "cell_type": "markdown",
   "id": "7b318f5a-9036-4702-bf64-ceeb4c668e54",
   "metadata": {},
   "source": [
    "# Pipeline"
   ]
  },
  {
   "cell_type": "code",
   "execution_count": 32,
   "id": "aa5fe493-d5e7-498e-b51a-16ba495e4fda",
   "metadata": {},
   "outputs": [],
   "source": [
    "numeric_transformer = Pipeline(steps=[\n",
    "    ('imputer',SimpleImputer(strategy='mean')),\n",
    "    ('scaler',StandardScaler())\n",
    "])\n",
    "\n",
    "categoric_transformer = Pipeline(steps=[\n",
    "    ('imputer',SimpleImputer(strategy='most_frequent')),\n",
    "    ('encoder',OneHotEncoder(handle_unknown='ignore',sparse_output= False))\n",
    "])\n",
    "\n",
    "preprocess = ColumnTransformer(\n",
    "   transformers = [\n",
    "       ('num',numeric_transformer,NUMERIQUES_COLS),\n",
    "       ('cat',categoric_transformer,CATEGORICAL_COLS)\n",
    "   ]\n",
    ")\n",
    "\n",
    "model = xgb.XGBRegressor(\n",
    "    objective='reg:squarederror',\n",
    "    n_estimators=600,\n",
    "    learning_rate=0.08,\n",
    "    random_state=42,\n",
    ")\n",
    "\n",
    "pipeline = Pipeline(steps=[\n",
    "    ('preprocess',preprocess),\n",
    "    ('model',model)\n",
    "]\n",
    ")\n",
    "\n",
    "X = train[COLS].drop(columns=[DROP_COLS],errors='ignore')\n",
    "y = train[TARGET]\n",
    "\n",
    "le = LabelEncoder()\n",
    "\n",
    "for col in COLS:\n",
    "    X[col] = le.fit_transform(X[col])"
   ]
  },
  {
   "cell_type": "code",
   "execution_count": 33,
   "id": "4c8f2a6f-7fa8-4d4a-9f2e-0aa87915fe00",
   "metadata": {},
   "outputs": [
    {
     "data": {
      "text/html": [
       "<div>\n",
       "<style scoped>\n",
       "    .dataframe tbody tr th:only-of-type {\n",
       "        vertical-align: middle;\n",
       "    }\n",
       "\n",
       "    .dataframe tbody tr th {\n",
       "        vertical-align: top;\n",
       "    }\n",
       "\n",
       "    .dataframe thead th {\n",
       "        text-align: right;\n",
       "    }\n",
       "</style>\n",
       "<table border=\"1\" class=\"dataframe\">\n",
       "  <thead>\n",
       "    <tr style=\"text-align: right;\">\n",
       "      <th></th>\n",
       "      <th>num_lanes</th>\n",
       "      <th>curvature</th>\n",
       "      <th>speed_limit</th>\n",
       "      <th>lighting</th>\n",
       "      <th>weather</th>\n",
       "      <th>road_signs_present</th>\n",
       "      <th>public_road</th>\n",
       "      <th>holiday</th>\n",
       "      <th>school_season</th>\n",
       "      <th>num_reported_accidents</th>\n",
       "      <th>accident_risk</th>\n",
       "    </tr>\n",
       "  </thead>\n",
       "  <tbody>\n",
       "    <tr>\n",
       "      <th>0</th>\n",
       "      <td>1</td>\n",
       "      <td>7</td>\n",
       "      <td>1</td>\n",
       "      <td>0</td>\n",
       "      <td>2</td>\n",
       "      <td>0</td>\n",
       "      <td>1</td>\n",
       "      <td>0</td>\n",
       "      <td>1</td>\n",
       "      <td>1</td>\n",
       "      <td>13</td>\n",
       "    </tr>\n",
       "    <tr>\n",
       "      <th>1</th>\n",
       "      <td>3</td>\n",
       "      <td>259</td>\n",
       "      <td>1</td>\n",
       "      <td>0</td>\n",
       "      <td>0</td>\n",
       "      <td>1</td>\n",
       "      <td>0</td>\n",
       "      <td>1</td>\n",
       "      <td>1</td>\n",
       "      <td>0</td>\n",
       "      <td>35</td>\n",
       "    </tr>\n",
       "    <tr>\n",
       "      <th>2</th>\n",
       "      <td>3</td>\n",
       "      <td>218</td>\n",
       "      <td>4</td>\n",
       "      <td>1</td>\n",
       "      <td>0</td>\n",
       "      <td>0</td>\n",
       "      <td>1</td>\n",
       "      <td>1</td>\n",
       "      <td>0</td>\n",
       "      <td>2</td>\n",
       "      <td>30</td>\n",
       "    </tr>\n",
       "    <tr>\n",
       "      <th>3</th>\n",
       "      <td>3</td>\n",
       "      <td>8</td>\n",
       "      <td>1</td>\n",
       "      <td>1</td>\n",
       "      <td>2</td>\n",
       "      <td>1</td>\n",
       "      <td>1</td>\n",
       "      <td>0</td>\n",
       "      <td>0</td>\n",
       "      <td>1</td>\n",
       "      <td>21</td>\n",
       "    </tr>\n",
       "    <tr>\n",
       "      <th>4</th>\n",
       "      <td>0</td>\n",
       "      <td>209</td>\n",
       "      <td>3</td>\n",
       "      <td>0</td>\n",
       "      <td>1</td>\n",
       "      <td>0</td>\n",
       "      <td>0</td>\n",
       "      <td>1</td>\n",
       "      <td>0</td>\n",
       "      <td>1</td>\n",
       "      <td>56</td>\n",
       "    </tr>\n",
       "  </tbody>\n",
       "</table>\n",
       "</div>"
      ],
      "text/plain": [
       "   num_lanes  curvature  speed_limit  lighting  weather  road_signs_present  \\\n",
       "0          1          7            1         0        2                   0   \n",
       "1          3        259            1         0        0                   1   \n",
       "2          3        218            4         1        0                   0   \n",
       "3          3          8            1         1        2                   1   \n",
       "4          0        209            3         0        1                   0   \n",
       "\n",
       "   public_road  holiday  school_season  num_reported_accidents  accident_risk  \n",
       "0            1        0              1                       1             13  \n",
       "1            0        1              1                       0             35  \n",
       "2            1        1              0                       2             30  \n",
       "3            1        0              0                       1             21  \n",
       "4            0        1              0                       1             56  "
      ]
     },
     "execution_count": 33,
     "metadata": {},
     "output_type": "execute_result"
    }
   ],
   "source": [
    "X.head()"
   ]
  },
  {
   "cell_type": "markdown",
   "id": "25161b16-4201-4de6-9ca2-4a3271c982d9",
   "metadata": {},
   "source": [
    "# Split data  in train and test "
   ]
  },
  {
   "cell_type": "code",
   "execution_count": 45,
   "id": "d2a3ea3b-7769-42fd-a11c-bedfe326fe93",
   "metadata": {},
   "outputs": [],
   "source": [
    "X_train,X_test, y_train,y_test = train_test_split(X,y,test_size=0.01)"
   ]
  },
  {
   "cell_type": "markdown",
   "id": "df5a3fe1-088d-4813-93e7-56718de06b84",
   "metadata": {},
   "source": [
    "# Training"
   ]
  },
  {
   "cell_type": "code",
   "execution_count": 46,
   "id": "9e1d38cd-f086-41fd-9e63-8e2ba4f78d82",
   "metadata": {},
   "outputs": [],
   "source": [
    "pipeline.fit(X_train,y_train)\n",
    "\n",
    "y_predict = pipeline.predict(X_test)\n"
   ]
  },
  {
   "cell_type": "markdown",
   "id": "2d422d52-1b2e-4d3c-a695-f13ddd1ee291",
   "metadata": {},
   "source": [
    "# Predicting"
   ]
  },
  {
   "cell_type": "code",
   "execution_count": 47,
   "id": "e3153bba-27f7-4cfa-a9ec-92b3be7e8d66",
   "metadata": {},
   "outputs": [
    {
     "name": "stdout",
     "output_type": "stream",
     "text": [
      "5.57879699293683e-12\n"
     ]
    }
   ],
   "source": [
    "y_predict = pipeline.predict(X_test)\n",
    "\n",
    "mse = mean_squared_error(y_test,y_predict)\n",
    "print(mse)"
   ]
  }
 ],
 "metadata": {
  "kernelspec": {
   "display_name": "Python 3 (ipykernel)",
   "language": "python",
   "name": "python3"
  },
  "language_info": {
   "codemirror_mode": {
    "name": "ipython",
    "version": 3
   },
   "file_extension": ".py",
   "mimetype": "text/x-python",
   "name": "python",
   "nbconvert_exporter": "python",
   "pygments_lexer": "ipython3",
   "version": "3.13.5"
  }
 },
 "nbformat": 4,
 "nbformat_minor": 5
}
